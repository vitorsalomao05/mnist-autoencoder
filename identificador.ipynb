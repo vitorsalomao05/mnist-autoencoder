{
 "cells": [
  {
   "cell_type": "markdown",
   "id": "33e9b07a",
   "metadata": {},
   "source": [
    "# Projeto: Autoencoder para Reconhecimento de Dígitos (MNIST)\n",
    "\n",
    "Este notebook implementa um modelo de *autoencoder* utilizando o conjunto de dados MNIST,\n",
    "construído e treinado com o framework TensorFlow (API Keras).\n",
    "\n",
    "Objetivo:\n",
    "- Treinar uma rede neural capaz de comprimir e reconstruir imagens de dígitos manuscritos (0–9).\n",
    "- Avaliar como o modelo aprende representações latentes úteis para o reconhecimento de padrões visuais.\n",
    "\n",
    "Etapas:\n",
    "1. Carregamento e normalização do dataset MNIST.\n",
    "2. Definição da arquitetura do autoencoder (encoder + decoder) com TensorFlow/Keras.\n",
    "3. Treinamento usando função de perda de reconstrução (MSE ou BCE).\n",
    "4. Visualização das imagens originais e reconstruídas.\n",
    "5. (Opcional) Uso da camada latente como entrada para um classificador.\n",
    "\n",
    "Framework utilizado: TensorFlow/Keras"
   ]
  },
  {
   "cell_type": "code",
   "execution_count": null,
   "id": "da1987eb",
   "metadata": {},
   "outputs": [],
   "source": [
    "import matplotlib.pyplot as plt\n",
    "import numpy as np\n",
    "import pandas as pd\n",
    "import tensorflow as tf\n",
    "\n",
    "from sklearn.metrics import accuracy_score, precision_score, recall_score\n",
    "from sklearn.model_selection import train_test_split\n",
    "from tensorflow.keras import layers, losses\n",
    "from tensorflow.keras.datasets import fashion_mnist\n",
    "from tensorflow.keras.models import Model"
   ]
  },
  {
   "cell_type": "code",
   "execution_count": null,
   "id": "652a0f20",
   "metadata": {},
   "outputs": [
    {
     "name": "stdout",
     "output_type": "stream",
     "text": [
      "Downloading data from https://storage.googleapis.com/tensorflow/tf-keras-datasets/mnist.npz\n",
      "\u001b[1m11490434/11490434\u001b[0m \u001b[32m━━━━━━━━━━━━━━━━━━━━\u001b[0m\u001b[37m\u001b[0m \u001b[1m1s\u001b[0m 0us/step\n",
      "(60000, 28, 28)\n",
      "(10000, 28, 28)\n"
     ]
    }
   ],
   "source": [
    "(x_train, _), (x_test, _) = fashion_mnist.load_data()\n",
    "\n",
    "x_train = x_train.astype('float32') / 255.\n",
    "x_test = x_test.astype('float32') / 255.\n",
    "\n",
    "print (x_train.shape)\n",
    "print (x_test.shape)"
   ]
  }
 ],
 "metadata": {
  "kernelspec": {
   "display_name": ".venv (3.12.11)",
   "language": "python",
   "name": "python3"
  },
  "language_info": {
   "codemirror_mode": {
    "name": "ipython",
    "version": 3
   },
   "file_extension": ".py",
   "mimetype": "text/x-python",
   "name": "python",
   "nbconvert_exporter": "python",
   "pygments_lexer": "ipython3",
   "version": "3.12.11"
  }
 },
 "nbformat": 4,
 "nbformat_minor": 5
}
