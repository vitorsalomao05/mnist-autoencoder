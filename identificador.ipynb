{
 "cells": [
  {
   "cell_type": "markdown",
   "id": "410bd8eb",
   "metadata": {},
   "source": [
    "\n",
    "# Autoencoder para Reconhecimento de Dígitos (MNIST) — TensorFlow/Keras\n",
    "\n",
    "\n",
    "Objetivo\n",
    "- Treinar um autoencoder para comprimir e reconstruir imagens de dígitos (0–9) do MNIST.\n",
    "- Usar o espaço latente para inspeção de representações e, opcionalmente, classificação.\n",
    "\n",
    "Plano\n",
    "1) Carregar e normalizar MNIST (28x28, escala [0,1]).\n",
    "2) Definir arquitetura: Encoder (reduz dimensão) + Decoder (reconstrói).\n",
    "3) Treinar com loss de reconstrução (MSE/BCE).\n",
    "4) Visualizar reconstruções e latentes.\n",
    "5) (Opcional) Congelar encoder e treinar um classificador simples.\n",
    "\n",
    "Stack: TensorFlow 2.x (tf.keras)\n"
   ]
  }
 ],
 "metadata": {
  "language_info": {
   "name": "python"
  }
 },
 "nbformat": 4,
 "nbformat_minor": 5
}
